{
 "cells": [
  {
   "cell_type": "code",
   "execution_count": 4,
   "id": "215ecffd",
   "metadata": {},
   "outputs": [
    {
     "name": "stdout",
     "output_type": "stream",
     "text": [
      "[(2, 1), (1, 2), (2, 3), (4, 4), (2, 5)]\n"
     ]
    }
   ],
   "source": [
    "def sample_tuple(x):\n",
    "    x.sort(key=lambda num2:num2[-1])\n",
    "    return x\n",
    "\n",
    "x=[(2,5),(1,2),(4,4),(2,1),(2,3)]\n",
    "print(sample_tuple(x))"
   ]
  },
  {
   "cell_type": "code",
   "execution_count": null,
   "id": "ebd8c64c",
   "metadata": {},
   "outputs": [],
   "source": []
  },
  {
   "cell_type": "code",
   "execution_count": 5,
   "id": "65bfbaf1",
   "metadata": {},
   "outputs": [
    {
     "data": {
      "text/plain": [
       "[(2, 1), (1, 2), (2, 3), (4, 4), (2, 5)]"
      ]
     },
     "execution_count": 5,
     "metadata": {},
     "output_type": "execute_result"
    }
   ],
   "source": [
    "x=[(2,5),(1,2),(4,4),(2,1),(2,3)]\n",
    "sorted(x,key=lambda num2:num2[1])"
   ]
  },
  {
   "cell_type": "code",
   "execution_count": null,
   "id": "d20df434",
   "metadata": {},
   "outputs": [],
   "source": []
  }
 ],
 "metadata": {
  "kernelspec": {
   "display_name": "Python 3 (ipykernel)",
   "language": "python",
   "name": "python3"
  },
  "language_info": {
   "codemirror_mode": {
    "name": "ipython",
    "version": 3
   },
   "file_extension": ".py",
   "mimetype": "text/x-python",
   "name": "python",
   "nbconvert_exporter": "python",
   "pygments_lexer": "ipython3",
   "version": "3.9.13"
  }
 },
 "nbformat": 4,
 "nbformat_minor": 5
}
